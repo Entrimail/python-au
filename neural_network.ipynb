{
 "cells": [
  {
   "cell_type": "code",
   "execution_count": 108,
   "metadata": {},
   "outputs": [
    {
     "name": "stdout",
     "output_type": "stream",
     "text": [
      "TensorFlow v 2.9.1\n"
     ]
    }
   ],
   "source": [
    "import os\n",
    "import numpy as np\n",
    "import tensorflow as tf\n",
    "import tensorflow\n",
    "from tensorflow.keras.models import Model\n",
    "from tensorflow.keras.layers import Dense, Input\n",
    "\n",
    "import logging\n",
    "logging.getLogger('tensorflow').setLevel(logging.WARNING)\n",
    "\n",
    "# tf.enable_eager_execution()\n",
    "\n",
    "print(\"TensorFlow v\", tf.version.VERSION)"
   ]
  },
  {
   "cell_type": "code",
   "execution_count": 135,
   "metadata": {},
   "outputs": [],
   "source": [
    "np.random.seed(1)\n",
    "A = (np.random.random((1000, 2)) * 4.0 - 2.0).astype(np.float32)\n",
    "V = [np.float32((x**2 + y**2) ** 2 - 2*(x**2 - y**2) < 0) for (x, y) in A]\n"
   ]
  },
  {
   "cell_type": "code",
   "execution_count": 136,
   "metadata": {},
   "outputs": [
    {
     "name": "stdout",
     "output_type": "stream",
     "text": [
      "Mode: CPU\n",
      "WARNING:tensorflow:There are non-GPU devices in `tf.distribute.Strategy`, not using nccl allreduce.\n",
      "INFO:tensorflow:Using MirroredStrategy with devices ('/job:localhost/replica:0/task:0/device:CPU:0',)\n",
      "Strategy is <tensorflow.python.distribute.mirrored_strategy.MirroredStrategy object at 0x00000111DAF3A6B0>.\n"
     ]
    }
   ],
   "source": [
    "if len(tensorflow.test.gpu_device_name()):  # GPU\n",
    "    mode = 'GPU'\n",
    "elif False:  # TPU https://stackoverflow.com/a/55686370 — пока не готовы\n",
    "    mode = 'TPU'\n",
    "else:\n",
    "    mode = 'CPU'\n",
    "\n",
    "print(\"Mode:\", mode)\n",
    "# mode = 'CPU'\n",
    "\n",
    "logging.getLogger('tensorflow').setLevel(logging.INFO)\n",
    "if mode == 'GPU':\n",
    "    strategy = tensorflow.distribute.MirroredStrategy(\n",
    "        devices=[tensorflow.test.gpu_device_name()]\n",
    "    )\n",
    "elif mode == 'TPU':\n",
    "    resolver = tf.distribute.cluster_resolver.TPUClusterResolver(tpu='grpc://' + os.environ['COLAB_TPU_ADDR'])\n",
    "    tf.config.experimental_connect_to_host(resolver.master())\n",
    "    tf.tpu.experimental.initialize_tpu_system(resolver)\n",
    "    strategy = tf.distribute.experimental.TPUStrategy(resolver)\n",
    "else:  # mode == 'CPU'\n",
    "      strategy = tensorflow.distribute.MirroredStrategy(devices=['CPU'])\n",
    "\n",
    "logging.getLogger('tensorflow').setLevel(logging.WARNING)\n",
    "print(f\"Strategy is {strategy}.\")"
   ]
  },
  {
   "cell_type": "code",
   "execution_count": 137,
   "metadata": {},
   "outputs": [
    {
     "name": "stdout",
     "output_type": "stream",
     "text": [
      "Scope: <tensorflow.python.distribute.mirrored_strategy.MirroredStrategy object at 0x00000111DAF3A6B0>\n"
     ]
    }
   ],
   "source": [
    "with strategy.scope() as scope:\n",
    "    model = tf.keras.Sequential([\n",
    "        Input(2),\n",
    "        Dense(18, activation='sigmoid', use_bias=True),\n",
    "        Dense(1, activation='sigmoid', use_bias=False)\n",
    "    ])\n",
    "\n",
    "    model.compile(\n",
    "        optimizer=tf.keras.optimizers.Adam(learning_rate=1e-3),\n",
    "        loss=tf.keras.losses.mean_squared_error,\n",
    "        metrics='accuracy'\n",
    "    )\n",
    "    print(\"Scope:\", scope)"
   ]
  },
  {
   "cell_type": "code",
   "execution_count": 138,
   "metadata": {},
   "outputs": [],
   "source": [
    "dataset = tf.data.Dataset.from_tensor_slices((\n",
    "  tf.constant(A, dtype=tf.float32),\n",
    "  tf.constant(V, dtype=tf.float32)\n",
    ")).shuffle(len(A) * 2, reshuffle_each_iteration=True).batch(1000).repeat()"
   ]
  },
  {
   "cell_type": "code",
   "execution_count": 139,
   "metadata": {},
   "outputs": [
    {
     "name": "stdout",
     "output_type": "stream",
     "text": [
      "Учим сеть...\n",
      "Epoch 1/10\n",
      "2000/2000 [==============================] - 6s 2ms/step - loss: 0.1104 - accuracy: 0.8760\n",
      "Epoch 2/10\n",
      "2000/2000 [==============================] - 3s 2ms/step - loss: 0.1078 - accuracy: 0.8760\n",
      "Epoch 3/10\n",
      "2000/2000 [==============================] - 3s 2ms/step - loss: 0.0710 - accuracy: 0.9006\n",
      "Epoch 4/10\n",
      "2000/2000 [==============================] - 3s 2ms/step - loss: 0.0382 - accuracy: 0.9525\n",
      "Epoch 5/10\n",
      "2000/2000 [==============================] - 3s 2ms/step - loss: 0.0287 - accuracy: 0.9670\n",
      "Epoch 6/10\n",
      "2000/2000 [==============================] - 3s 2ms/step - loss: 0.0187 - accuracy: 0.9805\n",
      "Epoch 7/10\n",
      "2000/2000 [==============================] - 3s 2ms/step - loss: 0.0099 - accuracy: 0.9932\n",
      "Epoch 8/10\n",
      "2000/2000 [==============================] - 3s 2ms/step - loss: 0.0063 - accuracy: 0.9973\n",
      "Epoch 9/10\n",
      "2000/2000 [==============================] - 3s 2ms/step - loss: 0.0043 - accuracy: 1.0000\n",
      "Epoch 10/10\n",
      "2000/2000 [==============================] - 3s 2ms/step - loss: 0.0026 - accuracy: 1.0000\n",
      "Научили сеть. Схороним.\n"
     ]
    }
   ],
   "source": [
    "if os.path.isfile(\"smart_colab_duckling.h5\"):\n",
    "    model.load_weights(\"smart_colab_duckling.h5\")\n",
    "    print(\"Сеть уже была научена раньше.\")\n",
    "else:\n",
    "    print(\"Учим сеть...\")\n",
    "    model.fit(\\\n",
    "        dataset, \\\n",
    "        epochs=10, \\\n",
    "        steps_per_epoch=2000 \\\n",
    "      )\n",
    "\n",
    "    print(\"Научили сеть. Схороним.\")\n",
    "    model.save_weights(\"smart_colab_duckling.h5\")"
   ]
  },
  {
   "cell_type": "code",
   "execution_count": 140,
   "metadata": {},
   "outputs": [
    {
     "name": "stdout",
     "output_type": "stream",
     "text": [
      "32/32 [==============================] - 1s 1ms/step\n"
     ]
    },
    {
     "data": {
      "image/png": "[encoded data removed]",
      "text/plain": [
       "<Figure size 432x288 with 1 Axes>"
      ]
     },
     "metadata": {
      "needs_background": "light"
     },
     "output_type": "display_data"
    }
   ],
   "source": [
    "import matplotlib.pyplot as plt\n",
    "\n",
    "plt.axis('equal')\n",
    "\n",
    "c = np.r_[-2:2:0.125]\n",
    "\n",
    "# https://stackoverflow.com/a/11144716/539470 =)\n",
    "XY = np.transpose([np.tile(c, len(c)), np.repeat(c, len(c))])\n",
    "\n",
    "Z = model.predict(XY)\n",
    "\n",
    "for (x, y), z in zip(XY, Z):\n",
    "    plt.scatter(x, y, c='red' if z > 0.5 else 'green')\n",
    "\n",
    "plt.show()"
   ]
  },
  {
   "cell_type": "code",
   "execution_count": 141,
   "metadata": {},
   "outputs": [
    {
     "data": {
      "image/png": "[encoded data removed]",
      "text/plain": [
       "<Figure size 432x288 with 1 Axes>"
      ]
     },
     "metadata": {
      "needs_background": "light"
     },
     "output_type": "display_data"
    }
   ],
   "source": [
    "plt.axis('equal')\n",
    "\n",
    "def saturate(v):\n",
    "    return min(1, max(0, v))\n",
    "\n",
    "for (x, y), z in zip(XY, Z):\n",
    "    plt.scatter(x, y, color=[(1, 1-saturate(z[0]), 1-saturate(z[0]))])\n",
    "\n",
    "plt.show()"
   ]
  }
 ],
 "metadata": {
  "interpreter": {
   "hash": "04370ab58da9a3df4d064dcdc2bda1fd2ba57484581a5d87a1fb42e5c77ca97d"
  },
  "kernelspec": {
   "display_name": "Python 3.10.4 64-bit",
   "language": "python",
   "name": "python3"
  },
  "language_info": {
   "codemirror_mode": {
    "name": "ipython",
    "version": 3
   },
   "file_extension": ".py",
   "mimetype": "text/x-python",
   "name": "python",
   "nbconvert_exporter": "python",
   "pygments_lexer": "ipython3",
   "version": "3.10.4"
  }
 },
 "nbformat": 4,
 "nbformat_minor": 2
}
