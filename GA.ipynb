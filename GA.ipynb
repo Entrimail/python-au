{
 "cells": [
  {
   "cell_type": "code",
   "execution_count": 1,
   "metadata": {},
   "outputs": [
    {
     "name": "stdout",
     "output_type": "stream",
     "text": [
      "Current Generation \t: 44\n",
      "Chromosome - 0 [h][e][l][l][o] / Fitness = 5\n",
      "Chromosome - 1 [h][e][N][l][o] / Fitness = 4\n",
      "Chromosome - 2 [h][e][B][l][o] / Fitness = 4\n",
      "Chromosome - 3 [h][e][B][l][o] / Fitness = 4\n",
      "Chromosome - 4 [h][e][N][l][o] / Fitness = 4\n",
      "Chromosome - 5 [h][e][N][l][o] / Fitness = 4\n",
      "Chromosome - 6 [h][e][Q][l][o] / Fitness = 4\n",
      "Chromosome - 7 [h][e][N][l][o] / Fitness = 4\n",
      "Chromosome - 8 [h][e][P][l][o] / Fitness = 4\n",
      "Chromosome - 9 [h][e][V][l][o] / Fitness = 4\n",
      "Chromosome - 10 [h][e][v][l][o] / Fitness = 4\n",
      "Chromosome - 11 [h][e][B][l][o] / Fitness = 4\n",
      "Chromosome - 12 [h][e][M][l][o] / Fitness = 4\n",
      "Chromosome - 13 [h][e][e][l][o] / Fitness = 4\n",
      "Chromosome - 14 [h][e][R][l][o] / Fitness = 4\n",
      "Chromosome - 15 [h][e][R][l][o] / Fitness = 4\n",
      "Chromosome - 16 [h][e][N][l][o] / Fitness = 4\n",
      "Chromosome - 17 [h][e][p][l][o] / Fitness = 4\n",
      "Chromosome - 18 [h][e][B][l][o] / Fitness = 4\n",
      "Chromosome - 19 [h][e][m][l][o] / Fitness = 4\n",
      "Chromosome - 20 [h][e][B][l][o] / Fitness = 4\n",
      "Chromosome - 21 [h][e][h][l][o] / Fitness = 4\n",
      "Chromosome - 22 [h][e][e][l][o] / Fitness = 4\n",
      "Chromosome - 23 [h][e][e][l][o] / Fitness = 4\n",
      "Chromosome - 24 [h][e][B][l][o] / Fitness = 4\n",
      "Chromosome - 25 [h][e][B][l][o] / Fitness = 4\n",
      "Chromosome - 26 [h][e][h][l][o] / Fitness = 4\n",
      "Chromosome - 27 [h][e][B][l][o] / Fitness = 4\n",
      "Chromosome - 28 [h][e][h][l][o] / Fitness = 4\n",
      "Chromosome - 29 [h][e][e][l][o] / Fitness = 4\n",
      "Chromosome - 30 [h][e][N][l][o] / Fitness = 4\n",
      "Chromosome - 31 [h][e][e][l][o] / Fitness = 4\n",
      "Chromosome - 32 [h][e][N][l][o] / Fitness = 4\n",
      "Chromosome - 33 [h][e][B][l][o] / Fitness = 4\n",
      "Chromosome - 34 [h][e][C][l][o] / Fitness = 4\n",
      "Chromosome - 35 [h][e][N][l][o] / Fitness = 4\n",
      "Chromosome - 36 [h][e][B][l][o] / Fitness = 4\n",
      "Chromosome - 37 [h][e][B][l][o] / Fitness = 4\n",
      "Chromosome - 38 [h][e][N][l][o] / Fitness = 4\n",
      "Chromosome - 39 [h][e][N][l][o] / Fitness = 4\n",
      "Chromosome - 40 [h][e][M][l][o] / Fitness = 4\n",
      "Chromosome - 41 [h][e][N][l][o] / Fitness = 4\n",
      "Chromosome - 42 [h][e][h][l][L] / Fitness = 3\n",
      "Chromosome - 43 [h][w][ ][l][o] / Fitness = 3\n",
      "Chromosome - 44 [h][e][y][l][P] / Fitness = 3\n",
      "Chromosome - 45 [h][e][h][U][o] / Fitness = 3\n",
      "Chromosome - 46 [h][C][M][l][o] / Fitness = 3\n",
      "Chromosome - 47 [h][y][N][l][o] / Fitness = 3\n",
      "Chromosome - 48 [h][y][N][l][o] / Fitness = 3\n",
      "Chromosome - 49 [h][e][M][l][Z] / Fitness = 3\n",
      "\n"
     ]
    },
    {
     "data": {
      "image/png": "[encoded data removed]",
      "text/plain": [
       "<Figure size 432x288 with 1 Axes>"
      ]
     },
     "metadata": {
      "needs_background": "light"
     },
     "output_type": "display_data"
    }
   ],
   "source": [
    "import EasyGA\n",
    "import random\n",
    "\n",
    "ga = EasyGA.GA()\n",
    "\n",
    "word = input(\"enter a word: \\n\")\n",
    "\n",
    "\n",
    "ga.chromosome_length = len(word)\n",
    "ga.fitness_goal = len(word)\n",
    "\n",
    "\n",
    "ga.population_size = 50\n",
    "ga.generation_goal = 10000\n",
    "\n",
    "def password_fitness(chromosome):\n",
    "\n",
    "    return sum(1 for gene, letter\n",
    "        in zip(chromosome, word)\n",
    "        if gene.value == letter\n",
    "    )\n",
    "\n",
    "ga.fitness_function_impl = password_fitness\n",
    "\n",
    "\n",
    "ga.gene_impl = lambda: random.choice([\"A\",\"a\",\"B\",\"b\",\"C\",\"c\",\"D\",\"d\",\"E\",\"e\",\n",
    "                                      \"F\",\"f\",\"G\",\"g\",\"H\",\"h\",\"I\",\"i\",\"J\",\"j\",\n",
    "                                      \"K\",\"k\",\"L\",\"l\",\"M\",\"m\",\"N\",\"n\",\"O\",\"o\",\n",
    "                                      \"P\",\"p\",\"Q\",\"q\",\"R\",\"r\",\"S\",\"s\",\"T\",\"t\",\n",
    "                                      \"U\",\"u\",\"V\",\"v\",\"W\",\"w\",\"X\",\"x\",\"Y\",\"y\",\n",
    "                                      \"Z\",\"z\",\" \"])\n",
    "\n",
    "\n",
    "ga.evolve()\n",
    "\n",
    "ga.print_generation()\n",
    "ga.print_population()\n",
    "\n",
    "ga.graph.highest_value_chromosome()\n",
    "ga.graph.show()"
   ]
  },
  {
   "cell_type": "code",
   "execution_count": null,
   "metadata": {},
   "outputs": [],
   "source": []
  }
 ],
 "metadata": {
  "interpreter": {
   "hash": "04370ab58da9a3df4d064dcdc2bda1fd2ba57484581a5d87a1fb42e5c77ca97d"
  },
  "kernelspec": {
   "display_name": "Python 3.10.4 64-bit",
   "language": "python",
   "name": "python3"
  },
  "language_info": {
   "codemirror_mode": {
    "name": "ipython",
    "version": 3
   },
   "file_extension": ".py",
   "mimetype": "text/x-python",
   "name": "python",
   "nbconvert_exporter": "python",
   "pygments_lexer": "ipython3",
   "version": "3.10.4"
  },
  "orig_nbformat": 4
 },
 "nbformat": 4,
 "nbformat_minor": 2
}
