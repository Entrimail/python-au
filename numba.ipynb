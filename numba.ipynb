{
 "cells": [
  {
   "cell_type": "code",
   "execution_count": 30,
   "metadata": {},
   "outputs": [],
   "source": [
    "from time import perf_counter\n",
    "from numba import prange, njit"
   ]
  },
  {
   "cell_type": "code",
   "execution_count": 28,
   "metadata": {},
   "outputs": [
    {
     "name": "stdout",
     "output_type": "stream",
     "text": [
      "CPU times: total: 56 s\n",
      "Wall time: 56.2 s\n"
     ]
    }
   ],
   "source": [
    "\n",
    "def is_prime(num):\n",
    "  for i in range(2, int(num ** 0.5 + 1)):\n",
    "    if num % i == 0:\n",
    "      return False\n",
    "  return True\n",
    "\n",
    "\n",
    "def run_program(N):\n",
    "  for i in range(N):\n",
    "    is_prime(i)\n",
    "\n",
    "\n",
    "N = 10000000\n",
    "%time run_program(N)"
   ]
  },
  {
   "cell_type": "code",
   "execution_count": 29,
   "metadata": {},
   "outputs": [
    {
     "name": "stdout",
     "output_type": "stream",
     "text": [
      "CPU times: total: 219 ms\n",
      "Wall time: 243 ms\n"
     ]
    }
   ],
   "source": [
    "\n",
    "@njit(fastmath=True, cache=True)\n",
    "def is_prime(num):\n",
    "  for i in prange(2, int(num ** 0.5 + 1)):\n",
    "    if num % i == 0:\n",
    "      return False\n",
    "  return True\n",
    "\n",
    "@njit(fastmath=True, cache=True,parallel=True)\n",
    "def run_program(N):\n",
    "   for i in prange(N):\n",
    "      is_prime(i)\n",
    "\n",
    "\n",
    "N = 10000000\n",
    "\n",
    "%time run_program(N)\n"
   ]
  }
 ],
 "metadata": {
  "interpreter": {
   "hash": "23c45d8445fbd0691d99a342129bb94fd1bc7f9cf2e5c376f20bf6598cda7f7c"
  },
  "kernelspec": {
   "display_name": "Python 3.9.7 64-bit",
   "language": "python",
   "name": "python3"
  },
  "language_info": {
   "codemirror_mode": {
    "name": "ipython",
    "version": 3
   },
   "file_extension": ".py",
   "mimetype": "text/x-python",
   "name": "python",
   "nbconvert_exporter": "python",
   "pygments_lexer": "ipython3",
   "version": "3.9.7"
  },
  "orig_nbformat": 4
 },
 "nbformat": 4,
 "nbformat_minor": 2
}
